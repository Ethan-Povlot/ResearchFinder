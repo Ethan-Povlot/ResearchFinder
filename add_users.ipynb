{
 "cells": [
  {
   "cell_type": "code",
   "execution_count": 1,
   "metadata": {},
   "outputs": [],
   "source": [
    "import pandas as pd\n"
   ]
  },
  {
   "cell_type": "code",
   "execution_count": null,
   "metadata": {},
   "outputs": [],
   "source": [
    " \n",
    "users = ['Harold', 'Emory', 'GT']\n",
    "groups = ['GT', 'Emory', 'GT']\n",
    "passwords = ['password', 'password', 'password']\n",
    "last_login = [\"\", \"\", \"\"]\n",
    "df = pd.DataFrame(list(zip(users, groups, passwords, last_login)),\n",
    "               columns =['Username', 'User_Group', 'password', 'last_login'])\n",
    "df.to_csv('user_info.csv', index=False)\n",
    "df"
   ]
  },
  {
   "cell_type": "code",
   "execution_count": 6,
   "metadata": {},
   "outputs": [],
   "source": [
    "df = pd.read_csv(r'C:\\Users\\ethan\\Documents\\ResearchFinder\\user_info.csv')\n",
    "df = df.iloc[:3]"
   ]
  },
  {
   "cell_type": "code",
   "execution_count": 4,
   "metadata": {},
   "outputs": [],
   "source": [
    "def add_user(username, affiliation, password, df):\n",
    "    df2 = pd.DataFrame(list(zip([username], [affiliation], [password], [\"\"])),\n",
    "               columns =['Username', 'User_Group', 'password', 'last_login'])\n",
    "    return pd.concat([df, df2])\n",
    "# df = add_user('n.mokarram@gmail.com', 'Emory','FErmeNAbA',df)\n",
    "# df = add_user('tanenbaum.m@gmail.com', 'Emory','TELIStATa',df)\n",
    "# df"
   ]
  },
  {
   "cell_type": "code",
   "execution_count": 13,
   "metadata": {},
   "outputs": [
    {
     "data": {
      "text/html": [
       "<div>\n",
       "<style scoped>\n",
       "    .dataframe tbody tr th:only-of-type {\n",
       "        vertical-align: middle;\n",
       "    }\n",
       "\n",
       "    .dataframe tbody tr th {\n",
       "        vertical-align: top;\n",
       "    }\n",
       "\n",
       "    .dataframe thead th {\n",
       "        text-align: right;\n",
       "    }\n",
       "</style>\n",
       "<table border=\"1\" class=\"dataframe\">\n",
       "  <thead>\n",
       "    <tr style=\"text-align: right;\">\n",
       "      <th></th>\n",
       "      <th>Username</th>\n",
       "      <th>User_Group</th>\n",
       "      <th>password</th>\n",
       "      <th>last_login</th>\n",
       "    </tr>\n",
       "  </thead>\n",
       "  <tbody>\n",
       "    <tr>\n",
       "      <th>0</th>\n",
       "      <td>Harold</td>\n",
       "      <td>GT</td>\n",
       "      <td>password</td>\n",
       "      <td>NaN</td>\n",
       "    </tr>\n",
       "    <tr>\n",
       "      <th>1</th>\n",
       "      <td>Emory</td>\n",
       "      <td>Emory</td>\n",
       "      <td>password</td>\n",
       "      <td>2023-11-03</td>\n",
       "    </tr>\n",
       "    <tr>\n",
       "      <th>2</th>\n",
       "      <td>GT</td>\n",
       "      <td>GT</td>\n",
       "      <td>password</td>\n",
       "      <td>2023-11-14</td>\n",
       "    </tr>\n",
       "    <tr>\n",
       "      <th>3</th>\n",
       "      <td>n.mokarram@gmail.com</td>\n",
       "      <td>Emory</td>\n",
       "      <td>FErmeNAbA</td>\n",
       "      <td>2023-10-11</td>\n",
       "    </tr>\n",
       "    <tr>\n",
       "      <th>4</th>\n",
       "      <td>tanenbaum.m@gmail.com</td>\n",
       "      <td>Emory</td>\n",
       "      <td>TELIStATa</td>\n",
       "      <td>2023-11-06</td>\n",
       "    </tr>\n",
       "    <tr>\n",
       "      <th>5</th>\n",
       "      <td>jrom@ece.gatech.edu</td>\n",
       "      <td>GT</td>\n",
       "      <td>ECE@GATECH</td>\n",
       "      <td>2023-11-14</td>\n",
       "    </tr>\n",
       "  </tbody>\n",
       "</table>\n",
       "</div>"
      ],
      "text/plain": [
       "                Username User_Group    password  last_login\n",
       "0                 Harold         GT    password         NaN\n",
       "1                  Emory      Emory    password  2023-11-03\n",
       "2                     GT         GT    password  2023-11-14\n",
       "3   n.mokarram@gmail.com      Emory   FErmeNAbA  2023-10-11\n",
       "4  tanenbaum.m@gmail.com      Emory   TELIStATa  2023-11-06\n",
       "5    jrom@ece.gatech.edu         GT  ECE@GATECH  2023-11-14"
      ]
     },
     "execution_count": 13,
     "metadata": {},
     "output_type": "execute_result"
    }
   ],
   "source": [
    "df = pd.read_csv(r'C:\\Users\\ethan\\Documents\\ResearchFinder\\user_info.csv')\n",
    "df"
   ]
  },
  {
   "cell_type": "code",
   "execution_count": 14,
   "metadata": {},
   "outputs": [
    {
     "data": {
      "text/html": [
       "<div>\n",
       "<style scoped>\n",
       "    .dataframe tbody tr th:only-of-type {\n",
       "        vertical-align: middle;\n",
       "    }\n",
       "\n",
       "    .dataframe tbody tr th {\n",
       "        vertical-align: top;\n",
       "    }\n",
       "\n",
       "    .dataframe thead th {\n",
       "        text-align: right;\n",
       "    }\n",
       "</style>\n",
       "<table border=\"1\" class=\"dataframe\">\n",
       "  <thead>\n",
       "    <tr style=\"text-align: right;\">\n",
       "      <th></th>\n",
       "      <th>Username</th>\n",
       "      <th>User_Group</th>\n",
       "      <th>password</th>\n",
       "      <th>last_login</th>\n",
       "    </tr>\n",
       "  </thead>\n",
       "  <tbody>\n",
       "    <tr>\n",
       "      <th>0</th>\n",
       "      <td>Harold</td>\n",
       "      <td>GT</td>\n",
       "      <td>password</td>\n",
       "      <td>NaN</td>\n",
       "    </tr>\n",
       "    <tr>\n",
       "      <th>1</th>\n",
       "      <td>Emory</td>\n",
       "      <td>Emory</td>\n",
       "      <td>password</td>\n",
       "      <td>2023-11-03</td>\n",
       "    </tr>\n",
       "    <tr>\n",
       "      <th>2</th>\n",
       "      <td>GT</td>\n",
       "      <td>GT</td>\n",
       "      <td>password</td>\n",
       "      <td>2023-11-14</td>\n",
       "    </tr>\n",
       "    <tr>\n",
       "      <th>3</th>\n",
       "      <td>n.mokarram@gmail.com</td>\n",
       "      <td>Emory</td>\n",
       "      <td>FErmeNAbA</td>\n",
       "      <td>2023-10-11</td>\n",
       "    </tr>\n",
       "    <tr>\n",
       "      <th>4</th>\n",
       "      <td>tanenbaum.m@gmail.com</td>\n",
       "      <td>Emory</td>\n",
       "      <td>TELIStATa</td>\n",
       "      <td>2023-11-06</td>\n",
       "    </tr>\n",
       "    <tr>\n",
       "      <th>5</th>\n",
       "      <td>jrom@ece.gatech.edu</td>\n",
       "      <td>GT</td>\n",
       "      <td>ECE@GATECH</td>\n",
       "      <td>2023-11-14</td>\n",
       "    </tr>\n",
       "    <tr>\n",
       "      <th>0</th>\n",
       "      <td>aijit.raychowdhury@ece.gatech.edu</td>\n",
       "      <td>GT</td>\n",
       "      <td>ECE@GATECH</td>\n",
       "      <td></td>\n",
       "    </tr>\n",
       "  </tbody>\n",
       "</table>\n",
       "</div>"
      ],
      "text/plain": [
       "                            Username User_Group    password  last_login\n",
       "0                             Harold         GT    password         NaN\n",
       "1                              Emory      Emory    password  2023-11-03\n",
       "2                                 GT         GT    password  2023-11-14\n",
       "3               n.mokarram@gmail.com      Emory   FErmeNAbA  2023-10-11\n",
       "4              tanenbaum.m@gmail.com      Emory   TELIStATa  2023-11-06\n",
       "5                jrom@ece.gatech.edu         GT  ECE@GATECH  2023-11-14\n",
       "0  aijit.raychowdhury@ece.gatech.edu         GT  ECE@GATECH            "
      ]
     },
     "execution_count": 14,
     "metadata": {},
     "output_type": "execute_result"
    }
   ],
   "source": [
    "df = add_user('arijit.raychowdhury@ece.gatech.edu', 'GT','ECE@GATECH',df)\n",
    "df"
   ]
  },
  {
   "cell_type": "code",
   "execution_count": 6,
   "metadata": {},
   "outputs": [],
   "source": [
    "df.to_csv(r'C:\\Users\\ethan\\Documents\\ResearchFinder\\user_info.csv', index=False)\n"
   ]
  },
  {
   "cell_type": "code",
   "execution_count": 2,
   "metadata": {},
   "outputs": [],
   "source": [
    "import pandas as pd\n",
    "df = pd.read_pickle(r'C:\\Users\\ethan\\Documents\\ResearchFinder\\last_month_wo_llama.pkl')"
   ]
  },
  {
   "cell_type": "code",
   "execution_count": null,
   "metadata": {},
   "outputs": [],
   "source": []
  }
 ],
 "metadata": {
  "kernelspec": {
   "display_name": "Python 3",
   "language": "python",
   "name": "python3"
  },
  "language_info": {
   "codemirror_mode": {
    "name": "ipython",
    "version": 3
   },
   "file_extension": ".py",
   "mimetype": "text/x-python",
   "name": "python",
   "nbconvert_exporter": "python",
   "pygments_lexer": "ipython3",
   "version": "3.11.5"
  }
 },
 "nbformat": 4,
 "nbformat_minor": 2
}
