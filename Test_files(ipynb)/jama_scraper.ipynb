{
 "cells": [
  {
   "cell_type": "code",
   "execution_count": 64,
   "metadata": {},
   "outputs": [],
   "source": [
    "import pandas as pd\n",
    "import requests\n",
    "from bs4 import BeautifulSoup\n",
    "from selenium import webdriver\n",
    "from datetime import datetime, timedelta"
   ]
  },
  {
   "cell_type": "code",
   "execution_count": 96,
   "metadata": {},
   "outputs": [],
   "source": [
    "last_known_date = datetime.now().strftime('%Y-%m-%d')\n",
    "def jama_get_extra_info(doi):\n",
    "    global last_known_date\n",
    "    response = requests.get(f'https://api.crossref.org/works/{doi}')\n",
    "    json_resp = response.json()\n",
    "    abstract = BeautifulSoup(json_resp['message']['abstract'],'html.parser').text\n",
    "    title = json_resp['message']['title'][0]\n",
    "    subjects = json_resp['message']['subject']\n",
    "    url = json_resp['message']['link'][0]['URL']\n",
    "    try:\n",
    "        date = '-'.join(str(item) for item in json_resp['message']['published-print']['date-parts'][0])\n",
    "        last_known_date = date\n",
    "    except:\n",
    "        date = last_known_date\n",
    "    source = 'Jama'\n",
    "    authors = []\n",
    "    affiliations = []\n",
    "    for id in json_resp['message']['author']:\n",
    "        name = \"\"\n",
    "        for name_type in ['given', 'family']:\n",
    "            try:\n",
    "                name+=id[name_type]+' '\n",
    "            except:\n",
    "                pass\n",
    "        authors.append(name[:-1])\n",
    "        for affil in id['affiliation']:\n",
    "            affiliations.append(affil['name'])\n",
    "    affiliations = list(set(affiliations))\n",
    "    authors = list(set(authors))\n",
    "    return abstract, title, subjects, url, date, source, authors, affiliations\n",
    "\n",
    "def jama_get_days_back(days_back):\n",
    "    days_back = 5#find and remove later\n",
    "    out = []\n",
    "    i=1\n",
    "    while True:\n",
    "        urlString = f'https://jamanetwork.com/searchresults?sort=Newest&f_ArticleTypeDisplayName=Research&page={i}'\n",
    "        i+=1\n",
    "        driver = webdriver.Chrome()\n",
    "        driver.get(urlString)\n",
    "        html = driver.page_source\n",
    "        driver.close()\n",
    "        soup=BeautifulSoup(html,'html.parser')\n",
    "        for cite in soup.find_all('cite', class_ ='article--citation'):\n",
    "            paper_info = {}\n",
    "            paper_info['doi'] = cite.text.replace('. ', ';').split(';')[-1].strip()\n",
    "            try:\n",
    "                paper_info['abstract'],paper_info['title'],paper_info['subjects'],paper_info['url'],paper_info['date'],paper_info['source'],paper_info['authors'],paper_info['affiliations'] = jama_get_extra_info(paper_info['doi'])\n",
    "            except:\n",
    "                continue\n",
    "            out.append(paper_info)\n",
    "        if len(out)>0:\n",
    "            if datetime.strptime(out[-1]['date'], '%Y-%m-%d').date() <datetime.now().date()-timedelta(days=days_back):\n",
    "                break\n",
    "    return pd.DataFrame.from_records(out)"
   ]
  },
  {
   "cell_type": "markdown",
   "metadata": {},
   "source": []
  },
  {
   "cell_type": "code",
   "execution_count": null,
   "metadata": {},
   "outputs": [
    {
     "data": {
      "text/plain": [
       "('ImportanceThe reported prevalence of autism in children has consistently risen over the past 20 years. The concurrent implications for the adult Medicaid system, which insures autistic adults due to low income or disability, have not been studied.ObjectiveTo estimate the prevalence of adults identified as autistic in Medicaid claims data and to examine the prevalence by year, age, and race and ethnicity to understand enrollment patterns.Design, Setting, and ParticipantsThis cohort study used data from a longitudinal Medicaid claims cohort of enrollees aged 18 years or older with a claim for autism at any point from January 1, 2011, to December 31, 2019, and an approximately 1% random sample of all adult Medicaid enrollees. The data were analyzed between February 22 and June 22, 2023.ExposureAdults enrolled in Medicaid with a claim for autism.Main Outcome and MeasuresPrevalence of autism per 1000 Medicaid enrollees for each year was calculated using denominator data from the Centers for Medicare &amp;amp; Medicaid Services weighted to nondisabled population demographic characteristics. Prevalence by race and ethnicity were calculated for study year 2019.ResultsAcross 9 years, 403\\u202f028 unique adults had autism claims in their Medicaid records (25.7% female, 74.2% male, 3.3% Asian, 16.8% Black, 12.2% Hispanic, 0.8% Native American, 0.8% Pacific Islander, 74.3% White, and 4.2% of multiple races). Across all ages, autism prevalence increased from 4.2 per 1000 enrollees in 2011 to 9.5 per 1000 enrollees in 2019. The largest increase over the 9 years was in the 25- to 34-year age group (195%), and the smallest increase was in the 55- to 64-year age group (45%). The prevalence of White enrollees was at least 2 times that of the prevalence of every other racial group in all age categories.Conclusions and RelevanceThe study findings suggest that despite difficulties in identifying autism in adults, there is a considerable and growing population of autistic adults enrolled in Medicaid. As children on the autism spectrum become autistic adults, Medicaid is an important insurance provider for an increasing number of autistic adults and can be a valuable resource for understanding the health of the autistic population.',\n",
       " 'Prevalence of Autism Among Medicaid-Enrolled Adults',\n",
       " ['Psychiatry and Mental health'],\n",
       " 'https://jamanetwork.com/journals/jamapsychiatry/articlepdf/2810312/jamapsychiatry_rubenstein_2023_br_230007_1695909683.62571.pdf',\n",
       " '2023-10-1',\n",
       " 'Jama',\n",
       " ['Eric Rubenstein',\n",
       "  'Matthew Fox',\n",
       "  'Amy Michals',\n",
       "  'Salina Tewolde',\n",
       "  'Na Wang'],\n",
       " ['Department of Epidemiology, Boston University School of Public Health, Boston, Massachusetts',\n",
       "  'Department of Epidemiology, Boston University School of Public Health, Boston University School of Public Health, Boston, Massachusetts',\n",
       "  'Biostatistics and Epidemiology Data Analytics Center, Boston University School of Public Health, Boston, Massachusetts'])"
      ]
     },
     "execution_count": 72,
     "metadata": {},
     "output_type": "execute_result"
    }
   ],
   "source": [
    "jama_get_extra_info('10.1001/jamapsychiatry.2023.3708')"
   ]
  }
 ],
 "metadata": {
  "kernelspec": {
   "display_name": "Python 3",
   "language": "python",
   "name": "python3"
  },
  "language_info": {
   "codemirror_mode": {
    "name": "ipython",
    "version": 3
   },
   "file_extension": ".py",
   "mimetype": "text/x-python",
   "name": "python",
   "nbconvert_exporter": "python",
   "pygments_lexer": "ipython3",
   "version": "3.11.5"
  },
  "orig_nbformat": 4
 },
 "nbformat": 4,
 "nbformat_minor": 2
}
