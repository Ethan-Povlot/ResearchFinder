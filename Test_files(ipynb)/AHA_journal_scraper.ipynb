{
 "cells": [
  {
   "cell_type": "code",
   "execution_count": 20,
   "metadata": {},
   "outputs": [],
   "source": [
    "import pandas as pd\n",
    "import requests\n",
    "from bs4 import BeautifulSoup\n",
    "from selenium import webdriver\n",
    "from datetime import datetime, timedelta\n"
   ]
  },
  {
   "cell_type": "code",
   "execution_count": 3,
   "metadata": {},
   "outputs": [],
   "source": [
    "i=0\n",
    "url =f'https://www.ahajournals.org/topic/featured/featured-article?sortBy=Earliest&startPage={i}&ContentItemType=research-article&pageSize=100'"
   ]
  },
  {
   "cell_type": "code",
   "execution_count": 25,
   "metadata": {},
   "outputs": [],
   "source": [
    "driver = webdriver.Chrome()\n",
    "driver.get(url)\n",
    "html = driver.page_source\n",
    "driver.close()\n",
    "soup=BeautifulSoup(html,'html.parser')\n"
   ]
  },
  {
   "cell_type": "code",
   "execution_count": 24,
   "metadata": {},
   "outputs": [],
   "source": [
    "divs = soup.find_all('div', class_='col-xs-12')\n",
    "div = divs[4]\n"
   ]
  },
  {
   "cell_type": "code",
   "execution_count": 23,
   "metadata": {},
   "outputs": [
    {
     "data": {
      "text/plain": [
       "'2023-10-03'"
      ]
     },
     "execution_count": 23,
     "metadata": {},
     "output_type": "execute_result"
    }
   ],
   "source": [
    "paper_info = {}\n",
    "paper_info['abstract'] = div.find('span', class_=\"hlFld-Abstract\").text.replace('            ', '').replace('\\n', '')\n",
    "paper_info['title'] = div.find('h3', class_='meta__title meta__title__margin').text.replace('                  ', '').replace('\\n', '')\n",
    "paper_info['paper_id'] = div.find('h3', class_='meta__title meta__title__margin').find('a')['href']\n",
    "paper_info['source'] = 'AHA Journal'\n",
    "paper_info['date'] = datetime.strptime(div.find('span', class_='meta__pubDate').text,'%d %B %Y' ).strftime('%Y-%m-%d')\n",
    "authors = []\n",
    "for auth in div.find_all('span', class_='hlFld-ContribAuthor'):\n",
    "    authors.append(auth.text)\n",
    "response = requests.get(f'https://api.crossref.org/works/{doi}')\n",
    "json_resp = response.json()\n",
    "affiliations = []\n",
    "for affils in json_resp['message']['author']:\n",
    "    for affil in affils['affiliation']:\n",
    "        affiliations.append(affil['name'])\n",
    "affiliations = list(set(affiliations))\n",
    "paper_info['authors'] = authors\n",
    "paper_info['affiliations'] = affiliations\n"
   ]
  },
  {
   "cell_type": "code",
   "execution_count": null,
   "metadata": {},
   "outputs": [],
   "source": []
  },
  {
   "cell_type": "code",
   "execution_count": 7,
   "metadata": {},
   "outputs": [
    {
     "data": {
      "text/plain": [
       "['Sukruth A. Shashikumar',\n",
       " 'Jie Zheng',\n",
       " 'E. John Orav',\n",
       " 'Arnold M. Epstein',\n",
       " 'Karen E. Joynt Maddox']"
      ]
     },
     "execution_count": 7,
     "metadata": {},
     "output_type": "execute_result"
    }
   ],
   "source": [
    "\n"
   ]
  },
  {
   "cell_type": "code",
   "execution_count": null,
   "metadata": {},
   "outputs": [],
   "source": []
  },
  {
   "cell_type": "code",
   "execution_count": null,
   "metadata": {},
   "outputs": [],
   "source": []
  },
  {
   "cell_type": "code",
   "execution_count": null,
   "metadata": {},
   "outputs": [],
   "source": []
  },
  {
   "cell_type": "code",
   "execution_count": null,
   "metadata": {},
   "outputs": [],
   "source": []
  }
 ],
 "metadata": {
  "kernelspec": {
   "display_name": "Python 3",
   "language": "python",
   "name": "python3"
  },
  "language_info": {
   "codemirror_mode": {
    "name": "ipython",
    "version": 3
   },
   "file_extension": ".py",
   "mimetype": "text/x-python",
   "name": "python",
   "nbconvert_exporter": "python",
   "pygments_lexer": "ipython3",
   "version": "3.11.5"
  },
  "orig_nbformat": 4
 },
 "nbformat": 4,
 "nbformat_minor": 2
}
