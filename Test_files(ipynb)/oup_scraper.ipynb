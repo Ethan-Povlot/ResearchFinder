{
 "cells": [
  {
   "cell_type": "code",
   "execution_count": 42,
   "metadata": {},
   "outputs": [],
   "source": [
    "import pandas as pd\n",
    "import requests\n",
    "from bs4 import BeautifulSoup\n",
    "from selenium import webdriver\n",
    "import json\n",
    "import threading\n",
    "from datetime import datetime, timedelta\n",
    "\n"
   ]
  },
  {
   "cell_type": "code",
   "execution_count": 55,
   "metadata": {},
   "outputs": [],
   "source": [
    "def get_oup_extra_data(url):\n",
    "    driver = webdriver.Chrome()\n",
    "    driver.get(url)\n",
    "    html = driver.page_source\n",
    "    driver.close()\n",
    "    soup=BeautifulSoup(html,'html.parser')\n",
    "    try:\n",
    "        abstract = soup.find('section', class_='abstract').text\n",
    "    except:\n",
    "        try:\n",
    "            h2_lst = soup.find_all('h2', class_='section-title js-splitscreen-section-title')\n",
    "            limited_lst = []\n",
    "            for i in range(len((h2_lst))):\n",
    "                if 'intro' in h2_lst[i].text.lower() or 'abstract' in h2_lst[i].text.lower():\n",
    "                    limited_lst.extend([h2_lst[i]])\n",
    "            abstract = \"\"\n",
    "            for a in limited_lst[0].find_next_siblings():\n",
    "                if 'section-title js-splitscreen-section-title' in str(a):\n",
    "                    break\n",
    "                abstract+=a.text+' '\n",
    "        except:\n",
    "            abstract = \"\"\n",
    "    script_tag = soup.find('script', type='application/ld+json')\n",
    "    script_content = script_tag.string\n",
    "    data = json.loads(script_content)\n",
    "    keywords = data.get(\"keywords\", [])\n",
    "    authors = []\n",
    "    affiliations = []\n",
    "    try:\n",
    "        for name in data['author']:\n",
    "            authors.append(name['name'])\n",
    "            affiliations.append(name['affiliation'])\n",
    "        affiliations= list(set(affiliations))\n",
    "        authors= list(set(authors))\n",
    "    except:\n",
    "        try:\n",
    "            author_meta_tags = soup.find_all('meta', {'name': 'citation_author'})\n",
    "            authors = []\n",
    "            for auth in author_meta_tags:\n",
    "                authors.append(auth['content'])\n",
    "            authors =list(set(authors))\n",
    "            institution_meta_tags = soup.find_all('meta', {'name': 'citation_author_institution'})\n",
    "            affiliations = []\n",
    "            for auth in institution_meta_tags:\n",
    "                affiliations.append(auth['content'])\n",
    "            affiliations =list(set(affiliations))\n",
    "        except:\n",
    "            pass\n",
    "    return abstract, keywords, authors, affiliations\n",
    "\n",
    "\n",
    "def get_oup_data(div):\n",
    "    try:\n",
    "        global out\n",
    "        paper_info = {}\n",
    "        paper_info['title'] = div.find('a', class_='article-link at-sr-article-title-link').text.strip()\n",
    "        paper_info['date']=datetime.strptime(div.find('div', class_='sri-date al-pub-date').text.strip().split(': ')[-1],'%d %B %Y' ).strftime(\"%Y-%m-%d\")\n",
    "        url = div.find('a', class_=\"article-link at-sr-article-title-link\")['href']\n",
    "        paper_info['paper_id']= url[url.find('/doi'):url.find('?search')]\n",
    "        paper_info['url'] = 'https://academic.oup.com'+url\n",
    "        paper_info['abstract'], paper_info['subjects'], paper_info['authors'], paper_info['affiliations'] =  get_oup_extra_data(paper_info['url'])\n",
    "        paper_info['source'] = 'Oxford Academic'\n",
    "        out.append(paper_info)\n",
    "    except:\n",
    "        print('fail')\n",
    "        pass"
   ]
  },
  {
   "cell_type": "code",
   "execution_count": 60,
   "metadata": {},
   "outputs": [
    {
     "name": "stdout",
     "output_type": "stream",
     "text": [
      "fail\n",
      "fail\n"
     ]
    },
    {
     "data": {
      "text/html": [
       "<div>\n",
       "<style scoped>\n",
       "    .dataframe tbody tr th:only-of-type {\n",
       "        vertical-align: middle;\n",
       "    }\n",
       "\n",
       "    .dataframe tbody tr th {\n",
       "        vertical-align: top;\n",
       "    }\n",
       "\n",
       "    .dataframe thead th {\n",
       "        text-align: right;\n",
       "    }\n",
       "</style>\n",
       "<table border=\"1\" class=\"dataframe\">\n",
       "  <thead>\n",
       "    <tr style=\"text-align: right;\">\n",
       "      <th></th>\n",
       "      <th>title</th>\n",
       "      <th>date</th>\n",
       "      <th>paper_id</th>\n",
       "      <th>url</th>\n",
       "      <th>abstract</th>\n",
       "      <th>subjects</th>\n",
       "      <th>authors</th>\n",
       "      <th>affiliations</th>\n",
       "      <th>source</th>\n",
       "    </tr>\n",
       "  </thead>\n",
       "  <tbody>\n",
       "    <tr>\n",
       "      <th>0</th>\n",
       "      <td>Should we use rifampicin in periprosthetic joi...</td>\n",
       "      <td>2023-10-06</td>\n",
       "      <td>/doi/10.1093/ofid/ofad491/7293986</td>\n",
       "      <td>https://academic.oup.com/ofid/advance-article/...</td>\n",
       "      <td>BackgroundPrevious studies demonstrated the ef...</td>\n",
       "      <td>[]</td>\n",
       "      <td>[Soriano, Alex, Kramer, Tobias Siegfried, Tatt...</td>\n",
       "      <td>[Infectious Diseases and Intensive Care Unit, ...</td>\n",
       "      <td>Oxford Academic</td>\n",
       "    </tr>\n",
       "    <tr>\n",
       "      <th>1</th>\n",
       "      <td>N-Terminal pro-Brain Natriuretic Peptide is a ...</td>\n",
       "      <td>2023-10-06</td>\n",
       "      <td>/doi/10.1093/rheumatology/kead522/7295625</td>\n",
       "      <td>https://academic.oup.com/rheumatology/advance-...</td>\n",
       "      <td>ObjectivesPrediction models based on tradition...</td>\n",
       "      <td>[Systemic Lupus Erythematosus, Brain Natriuret...</td>\n",
       "      <td>[Bernatsky, Sasha, Pineau, Christian A, Kalach...</td>\n",
       "      <td>[Division of Rheumatology,  McGill University ...</td>\n",
       "      <td>Oxford Academic</td>\n",
       "    </tr>\n",
       "    <tr>\n",
       "      <th>2</th>\n",
       "      <td>Ovarian follicle size or growth-rate can both ...</td>\n",
       "      <td>2023-10-06</td>\n",
       "      <td>/doi/10.1093/biolre/ioad134/7295315</td>\n",
       "      <td>https://academic.oup.com/biolreprod/advance-ar...</td>\n",
       "      <td>The endocrinology that leads to the ovulation ...</td>\n",
       "      <td>[Poly-ovulatory, Graafian follicle, Folliculog...</td>\n",
       "      <td>[Richard, Sharon, Jasoni, Christine L, Zhou, Y...</td>\n",
       "      <td>[Department of Anatomy ,  School of Biomedical...</td>\n",
       "      <td>Oxford Academic</td>\n",
       "    </tr>\n",
       "    <tr>\n",
       "      <th>3</th>\n",
       "      <td>Crohn’s Disease of the Ileoanal Pouch: A High ...</td>\n",
       "      <td>2023-10-06</td>\n",
       "      <td>/doi/10.1093/ibd/izad228/7295304</td>\n",
       "      <td>https://academic.oup.com/ibdjournal/advance-ar...</td>\n",
       "      <td>BackgroundApproximately 1 in 10 patients with ...</td>\n",
       "      <td>[ileal pouch–anal anastomosis, ulcerative coli...</td>\n",
       "      <td>[Wessels, Elise, Buskens, Christianne, Goetgeb...</td>\n",
       "      <td>[Department of Gastroenterology and Hepatology...</td>\n",
       "      <td>Oxford Academic</td>\n",
       "    </tr>\n",
       "    <tr>\n",
       "      <th>4</th>\n",
       "      <td>Reconciling paid work and informal caregiving ...</td>\n",
       "      <td>2023-10-06</td>\n",
       "      <td>/doi/10.1093/geroni/igad115/7293241</td>\n",
       "      <td>https://academic.oup.com/innovateage/advance-a...</td>\n",
       "      <td>Background and ObjectivesMany older adults who...</td>\n",
       "      <td>[Informal Caregiving, employment, older adults]</td>\n",
       "      <td>[Koreshi, Shanika Yoshini, Alpass, Fiona]</td>\n",
       "      <td>[School of Psychology, Massey University , Man...</td>\n",
       "      <td>Oxford Academic</td>\n",
       "    </tr>\n",
       "    <tr>\n",
       "      <th>...</th>\n",
       "      <td>...</td>\n",
       "      <td>...</td>\n",
       "      <td>...</td>\n",
       "      <td>...</td>\n",
       "      <td>...</td>\n",
       "      <td>...</td>\n",
       "      <td>...</td>\n",
       "      <td>...</td>\n",
       "      <td>...</td>\n",
       "    </tr>\n",
       "    <tr>\n",
       "      <th>333</th>\n",
       "      <td>Computer image analysis with artificial intell...</td>\n",
       "      <td>2023-10-04</td>\n",
       "      <td>/doi/10.1093/postmj/qgad095/7289070</td>\n",
       "      <td>https://academic.oup.com/pmj/advance-article/d...</td>\n",
       "      <td>Artificial intelligence tools, particularly co...</td>\n",
       "      <td>[biotechnology &amp; bioinformatics, education and...</td>\n",
       "      <td>[Hunter, James, Thomson, Brian, Kourounis, Geo...</td>\n",
       "      <td>[Nuffield Department of Surgical Sciences,  Un...</td>\n",
       "      <td>Oxford Academic</td>\n",
       "    </tr>\n",
       "    <tr>\n",
       "      <th>334</th>\n",
       "      <td>How can UK public health initiatives support e...</td>\n",
       "      <td>2023-10-04</td>\n",
       "      <td></td>\n",
       "      <td>https://academic.oup.com/heapro/article/38/5/d...</td>\n",
       "      <td>Physical activity improves physical and mental...</td>\n",
       "      <td>[physical activity, running, participation, pa...</td>\n",
       "      <td>[Relph, Nicola, Owen, Michael, Noonan, Rob, Bu...</td>\n",
       "      <td>[The Advanced Wellbeing Research Centre, Sheff...</td>\n",
       "      <td>Oxford Academic</td>\n",
       "    </tr>\n",
       "    <tr>\n",
       "      <th>335</th>\n",
       "      <td>Adolescent Cybervictimization in 31 Countries:...</td>\n",
       "      <td>2023-10-03</td>\n",
       "      <td>/doi/10.1093/socpro/spad049/7288199</td>\n",
       "      <td>https://academic.oup.com/socpro/advance-articl...</td>\n",
       "      <td>This study examined the gender gap, gendered o...</td>\n",
       "      <td>[gender inequality, cybervictimization, backla...</td>\n",
       "      <td>[Wilcox, Pamela, Deryol, Rustu, McNealey, Rach...</td>\n",
       "      <td>[Pennsylvania State University ,  USA, Univers...</td>\n",
       "      <td>Oxford Academic</td>\n",
       "    </tr>\n",
       "    <tr>\n",
       "      <th>336</th>\n",
       "      <td>The family meal, a ritual frozen in time; an A...</td>\n",
       "      <td>2023-10-04</td>\n",
       "      <td></td>\n",
       "      <td>https://academic.oup.com/heapro/article/38/5/d...</td>\n",
       "      <td>Family meals are recognized as an opportunity ...</td>\n",
       "      <td>[family meal, grounded theory, food work, food...</td>\n",
       "      <td>[Coveney, John, Middleton, Georgia, Golley, Re...</td>\n",
       "      <td>[College of Nursing and Health Sciences, Flind...</td>\n",
       "      <td>Oxford Academic</td>\n",
       "    </tr>\n",
       "    <tr>\n",
       "      <th>337</th>\n",
       "      <td>FLASHING: Project overview</td>\n",
       "      <td>2023-10-03</td>\n",
       "      <td>/doi/10.1093/pasj/psad064/7288048</td>\n",
       "      <td>https://academic.oup.com/pasj/advance-article/...</td>\n",
       "      <td>This paper describes an overview of the FLASHI...</td>\n",
       "      <td>[masers, stars: AGB and post-AGB, stars: jets,...</td>\n",
       "      <td>[Uscanga, Lucero, Kasai, Rina, Tafoya, Daniel,...</td>\n",
       "      <td>[Instituto de Astrofísica de Andalucía, CSIC, ...</td>\n",
       "      <td>Oxford Academic</td>\n",
       "    </tr>\n",
       "  </tbody>\n",
       "</table>\n",
       "<p>338 rows × 9 columns</p>\n",
       "</div>"
      ],
      "text/plain": [
       "                                                 title        date  \\\n",
       "0    Should we use rifampicin in periprosthetic joi...  2023-10-06   \n",
       "1    N-Terminal pro-Brain Natriuretic Peptide is a ...  2023-10-06   \n",
       "2    Ovarian follicle size or growth-rate can both ...  2023-10-06   \n",
       "3    Crohn’s Disease of the Ileoanal Pouch: A High ...  2023-10-06   \n",
       "4    Reconciling paid work and informal caregiving ...  2023-10-06   \n",
       "..                                                 ...         ...   \n",
       "333  Computer image analysis with artificial intell...  2023-10-04   \n",
       "334  How can UK public health initiatives support e...  2023-10-04   \n",
       "335  Adolescent Cybervictimization in 31 Countries:...  2023-10-03   \n",
       "336  The family meal, a ritual frozen in time; an A...  2023-10-04   \n",
       "337                         FLASHING: Project overview  2023-10-03   \n",
       "\n",
       "                                      paper_id  \\\n",
       "0            /doi/10.1093/ofid/ofad491/7293986   \n",
       "1    /doi/10.1093/rheumatology/kead522/7295625   \n",
       "2          /doi/10.1093/biolre/ioad134/7295315   \n",
       "3             /doi/10.1093/ibd/izad228/7295304   \n",
       "4          /doi/10.1093/geroni/igad115/7293241   \n",
       "..                                         ...   \n",
       "333        /doi/10.1093/postmj/qgad095/7289070   \n",
       "334                                              \n",
       "335        /doi/10.1093/socpro/spad049/7288199   \n",
       "336                                              \n",
       "337          /doi/10.1093/pasj/psad064/7288048   \n",
       "\n",
       "                                                   url  \\\n",
       "0    https://academic.oup.com/ofid/advance-article/...   \n",
       "1    https://academic.oup.com/rheumatology/advance-...   \n",
       "2    https://academic.oup.com/biolreprod/advance-ar...   \n",
       "3    https://academic.oup.com/ibdjournal/advance-ar...   \n",
       "4    https://academic.oup.com/innovateage/advance-a...   \n",
       "..                                                 ...   \n",
       "333  https://academic.oup.com/pmj/advance-article/d...   \n",
       "334  https://academic.oup.com/heapro/article/38/5/d...   \n",
       "335  https://academic.oup.com/socpro/advance-articl...   \n",
       "336  https://academic.oup.com/heapro/article/38/5/d...   \n",
       "337  https://academic.oup.com/pasj/advance-article/...   \n",
       "\n",
       "                                              abstract  \\\n",
       "0    BackgroundPrevious studies demonstrated the ef...   \n",
       "1    ObjectivesPrediction models based on tradition...   \n",
       "2    The endocrinology that leads to the ovulation ...   \n",
       "3    BackgroundApproximately 1 in 10 patients with ...   \n",
       "4    Background and ObjectivesMany older adults who...   \n",
       "..                                                 ...   \n",
       "333  Artificial intelligence tools, particularly co...   \n",
       "334  Physical activity improves physical and mental...   \n",
       "335  This study examined the gender gap, gendered o...   \n",
       "336  Family meals are recognized as an opportunity ...   \n",
       "337  This paper describes an overview of the FLASHI...   \n",
       "\n",
       "                                              subjects  \\\n",
       "0                                                   []   \n",
       "1    [Systemic Lupus Erythematosus, Brain Natriuret...   \n",
       "2    [Poly-ovulatory, Graafian follicle, Folliculog...   \n",
       "3    [ileal pouch–anal anastomosis, ulcerative coli...   \n",
       "4      [Informal Caregiving, employment, older adults]   \n",
       "..                                                 ...   \n",
       "333  [biotechnology & bioinformatics, education and...   \n",
       "334  [physical activity, running, participation, pa...   \n",
       "335  [gender inequality, cybervictimization, backla...   \n",
       "336  [family meal, grounded theory, food work, food...   \n",
       "337  [masers, stars: AGB and post-AGB, stars: jets,...   \n",
       "\n",
       "                                               authors  \\\n",
       "0    [Soriano, Alex, Kramer, Tobias Siegfried, Tatt...   \n",
       "1    [Bernatsky, Sasha, Pineau, Christian A, Kalach...   \n",
       "2    [Richard, Sharon, Jasoni, Christine L, Zhou, Y...   \n",
       "3    [Wessels, Elise, Buskens, Christianne, Goetgeb...   \n",
       "4            [Koreshi, Shanika Yoshini, Alpass, Fiona]   \n",
       "..                                                 ...   \n",
       "333  [Hunter, James, Thomson, Brian, Kourounis, Geo...   \n",
       "334  [Relph, Nicola, Owen, Michael, Noonan, Rob, Bu...   \n",
       "335  [Wilcox, Pamela, Deryol, Rustu, McNealey, Rach...   \n",
       "336  [Coveney, John, Middleton, Georgia, Golley, Re...   \n",
       "337  [Uscanga, Lucero, Kasai, Rina, Tafoya, Daniel,...   \n",
       "\n",
       "                                          affiliations           source  \n",
       "0    [Infectious Diseases and Intensive Care Unit, ...  Oxford Academic  \n",
       "1    [Division of Rheumatology,  McGill University ...  Oxford Academic  \n",
       "2    [Department of Anatomy ,  School of Biomedical...  Oxford Academic  \n",
       "3    [Department of Gastroenterology and Hepatology...  Oxford Academic  \n",
       "4    [School of Psychology, Massey University , Man...  Oxford Academic  \n",
       "..                                                 ...              ...  \n",
       "333  [Nuffield Department of Surgical Sciences,  Un...  Oxford Academic  \n",
       "334  [The Advanced Wellbeing Research Centre, Sheff...  Oxford Academic  \n",
       "335  [Pennsylvania State University ,  USA, Univers...  Oxford Academic  \n",
       "336  [College of Nursing and Health Sciences, Flind...  Oxford Academic  \n",
       "337  [Instituto de Astrofísica de Andalucía, CSIC, ...  Oxford Academic  \n",
       "\n",
       "[338 rows x 9 columns]"
      ]
     },
     "execution_count": 60,
     "metadata": {},
     "output_type": "execute_result"
    }
   ],
   "source": [
    "out = []\n",
    "def get_oup_days_back(num_days):\n",
    "    global out\n",
    "    out= []\n",
    "    i=1\n",
    "    while True:\n",
    "        url = f'https://academic.oup.com/journals/search-results?sort=Date+%E2%80%93+Newest+First&f_ContentSubTypeDisplayName=Research+Article&fl_SiteID=5567&page={i}'\n",
    "        driver = webdriver.Chrome()\n",
    "        driver.get(url)\n",
    "        html = driver.page_source\n",
    "        driver.close()\n",
    "        soup=BeautifulSoup(html,'html.parser')\n",
    "        threads = []\n",
    "        for div in soup.find_all('div', class_='sr-list al-article-box al-normal clearfix'):\n",
    "            thread = threading.Thread(target=get_oup_data, args=(div,))\n",
    "            threads.append(thread)\n",
    "            thread.start()\n",
    "        for thread in threads:\n",
    "            thread.join()\n",
    "        i+=1\n",
    "        if datetime.strptime(out[-1]['date'], '%Y-%m-%d').date() <datetime.now().date()-timedelta(days=num_days):\n",
    "            break\n",
    "    return pd.DataFrame.from_records(out)\n",
    "df=get_oup_days_back(2)\n"
   ]
  },
  {
   "cell_type": "code",
   "execution_count": 59,
   "metadata": {},
   "outputs": [
    {
     "data": {
      "text/html": [
       "<div>\n",
       "<style scoped>\n",
       "    .dataframe tbody tr th:only-of-type {\n",
       "        vertical-align: middle;\n",
       "    }\n",
       "\n",
       "    .dataframe tbody tr th {\n",
       "        vertical-align: top;\n",
       "    }\n",
       "\n",
       "    .dataframe thead th {\n",
       "        text-align: right;\n",
       "    }\n",
       "</style>\n",
       "<table border=\"1\" class=\"dataframe\">\n",
       "  <thead>\n",
       "    <tr style=\"text-align: right;\">\n",
       "      <th></th>\n",
       "      <th>title</th>\n",
       "      <th>date</th>\n",
       "      <th>paper_id</th>\n",
       "      <th>url</th>\n",
       "      <th>abstract</th>\n",
       "      <th>subjects</th>\n",
       "      <th>authors</th>\n",
       "      <th>affiliations</th>\n",
       "      <th>source</th>\n",
       "    </tr>\n",
       "  </thead>\n",
       "  <tbody>\n",
       "    <tr>\n",
       "      <th>137</th>\n",
       "      <td>Protein dose-sparing effect of AS01B adjuvant ...</td>\n",
       "      <td>2023-10-05</td>\n",
       "      <td>/doi/10.1093/infdis/jiad434/7289550</td>\n",
       "      <td>https://academic.oup.com/jid/advance-article/d...</td>\n",
       "      <td>BackgroundHVTN 120 is a phase 1/2a randomized ...</td>\n",
       "      <td>[HIV, vaccine, dose, adjuvant]</td>\n",
       "      <td>[Corey, Lawrence, McElrath, M Juliana, Chirenj...</td>\n",
       "      <td>[ZMC University of California San Francisco, D...</td>\n",
       "      <td>Oxford Academic</td>\n",
       "    </tr>\n",
       "  </tbody>\n",
       "</table>\n",
       "</div>"
      ],
      "text/plain": [
       "                                                 title        date  \\\n",
       "137  Protein dose-sparing effect of AS01B adjuvant ...  2023-10-05   \n",
       "\n",
       "                                paper_id  \\\n",
       "137  /doi/10.1093/infdis/jiad434/7289550   \n",
       "\n",
       "                                                   url  \\\n",
       "137  https://academic.oup.com/jid/advance-article/d...   \n",
       "\n",
       "                                              abstract  \\\n",
       "137  BackgroundHVTN 120 is a phase 1/2a randomized ...   \n",
       "\n",
       "                           subjects  \\\n",
       "137  [HIV, vaccine, dose, adjuvant]   \n",
       "\n",
       "                                               authors  \\\n",
       "137  [Corey, Lawrence, McElrath, M Juliana, Chirenj...   \n",
       "\n",
       "                                          affiliations           source  \n",
       "137  [ZMC University of California San Francisco, D...  Oxford Academic  "
      ]
     },
     "execution_count": 59,
     "metadata": {},
     "output_type": "execute_result"
    }
   ],
   "source": [
    "df[df['affiliations'].astype(str).str.contains('Georgia')]"
   ]
  },
  {
   "cell_type": "code",
   "execution_count": 26,
   "metadata": {},
   "outputs": [
    {
     "data": {
      "text/plain": [
       "('A continued and unprecedented demand for England’s child protection services has coincided with increasing numbers of children being made subject to Care Orders within the Family Court. There is a growing understanding of the associated challenges—not least in terms of cost and placement availability. However, there has been limited discussion of the difficulties associated with children being made subject to a Care Order, but who remain living at home with their parents. This article reports on an iterative mixed method study which sought to explore child protection social workers’ experiences of ‘Care Orders at home’. This article reports on the prevalence of ‘Care Orders at home’ within Northwest England and identifies specific challenges in the context of ‘managing child protection partners’ expectations’; apparent ‘confusion and disempowerment of the child and family’ and ‘an increased sense of risk’ with respect to several of the key stakeholders involved. Implications that emerge from the study are that a ‘Care Order at home’ might, in some circumstances, be considered as a ‘contradictory’ and therefore ‘confusing’ concept, and that it can offer less protection to a child than a care plan for ‘No Order’ running concurrently to a detailed child protection plan.',\n",
       " ['Care Order', 'Care Order at home', 'child protection', 'social work'],\n",
       " ['Maguinness, Noreen', 'Murphy, Ciarán', 'Stathopoulos, Eoanna'],\n",
       " ['Department of Social Work &amp; Wellbeing, Faculty of Health, Social Care and Medicine, Edge Hill University , Ormskirk L39 4QP,  UK',\n",
       "  'Social Work Department, School of Nursing and Allied Health, Liverpool John Moores University , Liverpool L3 2ET,  UK'])"
      ]
     },
     "execution_count": 26,
     "metadata": {},
     "output_type": "execute_result"
    }
   ],
   "source": [
    "a = get_oup_extra_data('https://academic.oup.com/bjsw/advance-article/doi/10.1093/bjsw/bcad217/7295480?searchresult=1')\n",
    "a"
   ]
  },
  {
   "cell_type": "code",
   "execution_count": 28,
   "metadata": {},
   "outputs": [
    {
     "data": {
      "text/plain": [
       "4"
      ]
     },
     "execution_count": 28,
     "metadata": {},
     "output_type": "execute_result"
    }
   ],
   "source": [
    "len(a)"
   ]
  },
  {
   "cell_type": "code",
   "execution_count": 48,
   "metadata": {},
   "outputs": [
    {
     "data": {
      "text/plain": [
       "[]"
      ]
     },
     "execution_count": 48,
     "metadata": {},
     "output_type": "execute_result"
    }
   ],
   "source": [
    "out"
   ]
  },
  {
   "cell_type": "code",
   "execution_count": 52,
   "metadata": {},
   "outputs": [
    {
     "data": {
      "text/plain": [
       "'2023-10-06'"
      ]
     },
     "execution_count": 52,
     "metadata": {},
     "output_type": "execute_result"
    }
   ],
   "source": [
    "date_txt = out[-1]['date']\n",
    "date_txt"
   ]
  },
  {
   "cell_type": "code",
   "execution_count": 53,
   "metadata": {},
   "outputs": [
    {
     "data": {
      "text/plain": [
       "datetime.date(2023, 10, 6)"
      ]
     },
     "execution_count": 53,
     "metadata": {},
     "output_type": "execute_result"
    }
   ],
   "source": [
    "datetime.strptime(out[-1]['date'], '%Y-%m-%d').date()"
   ]
  },
  {
   "cell_type": "code",
   "execution_count": 54,
   "metadata": {},
   "outputs": [],
   "source": []
  },
  {
   "cell_type": "code",
   "execution_count": 20,
   "metadata": {},
   "outputs": [
    {
     "data": {
      "text/plain": [
       "[\"Department of Pediatrics, University of Cincinnati College of Medicine, Cincinnati Children's Hospital Medical Center, Cincinnati, Ohio, USA\",\n",
       " \"Department of Infectious Diseases, Children's, St. Jude Children's Research Hospital, Memphis, Tennessee, USA\",\n",
       " \"Department of Pediatrics, University of Washington and Seattle Children's Research Institute, Seattle, Washington, USA\",\n",
       " \"Department of Pediatrics, Division of Infectious Diseases & Host Defense, Nationwide Children's Hospital and The Ohio State University, Columbus, Ohio, USA\",\n",
       " 'Department of Pediatrics, Vanderbilt University Medical Center, Nashville, Tennessee, USA',\n",
       " 'Department of Biostatistics, Vanderbilt University Medical Center, Nashville, Tennessee, USA',\n",
       " \"Department of Pediatrics, Division of Infectious Diseases, Baylor College of Medicine, and Texas Children's Hospital, Houston, Texas, USA\",\n",
       " \"Department of Pediatrics, University of California San Francisco and Benioff Children's Hospital – San Francisco, San Francisco, California, USA\",\n",
       " 'Department of Infectious Diseases, University of Missouri at Kansas City, Kansas City, Missouri, USA',\n",
       " 'Department of Medicine, Vanderbilt University Medical Center, Nashville, Tennessee, USA',\n",
       " 'Department of Molecular Virology and Microbiology, Baylor College of Medicine, Houston, Texas, USA',\n",
       " \"Department of Pediatrics, Children's Mercy Kansas City, Kansas City, Missouri, USA\",\n",
       " 'Department of Pediatrics, Perelman School of Medicine, University of Pennsylvania, Philadelphia, Pennsylvania, USA']"
      ]
     },
     "execution_count": 20,
     "metadata": {},
     "output_type": "execute_result"
    }
   ],
   "source": []
  },
  {
   "cell_type": "code",
   "execution_count": 92,
   "metadata": {},
   "outputs": [
    {
     "data": {
      "text/plain": [
       "'The current investment treaty system is, by its nature, highly fragmented, and there is a large potential for conflict, within the system and with other fields of public international law. Several States have already been exposed to conflicts within the investment treaty system, as well as collisions with other treaty regimes. The CME v Czech Republic and Lauder v Czech Republic cases2 are the prime examples— also referred to as the ‘ultimate fiasco in investment arbitration’3—of investment arbitrations resulting in directly contradictory outcomes. While the Lauder v Czech Republic Tribunal denied all claims for damages by the ultimate shareholder of a Czech television broadcasting company, the CME v Czech Republic Tribunal, 10 days later, awarded the Dutch investment vehicle compensation for several treaty violations based on the same treatment of the same investment and applying essentially the same investment treaty standards.4 EU Member States have also experienced clashes between investment treaties and European Union law. Eastern Sugar v Czech Republic5 became the first publicly known of many intra-EU investment treaty arbitrations in which EU Member States raised, and investment tribunals rejected, jurisdictional objections based on the incompatibility between intra-EU BITs and EU law. The potential for future conflicts remains high. For example, conflicts with international environmental law are likely to arise in the context of actions taken by States to address climate change and facilitate energy transition.6 Tensions may also arise with international humanitarian law since international investment law and the law of armed conflict balance private property rights differently.7 '"
      ]
     },
     "execution_count": 92,
     "metadata": {},
     "output_type": "execute_result"
    }
   ],
   "source": [
    "h2_lst = soup.find_all('h2', class_='section-title js-splitscreen-section-title')\n",
    "limited_lst = []\n",
    "for i in range(len((h2_lst))):\n",
    "    if 'intro' in h2_lst[i].text.lower() or 'abstract' in h2_lst[i].text.lower():\n",
    "        limited_lst.extend([h2_lst[i]])\n",
    "test_abstract = \"\"\n",
    "for a in limited_lst[0].find_next_siblings():\n",
    "    if 'section-title js-splitscreen-section-title' in str(a):\n",
    "        break\n",
    "    test_abstract+=a.text+' '\n",
    "test_abstract"
   ]
  }
 ],
 "metadata": {
  "kernelspec": {
   "display_name": "Python 3",
   "language": "python",
   "name": "python3"
  },
  "language_info": {
   "codemirror_mode": {
    "name": "ipython",
    "version": 3
   },
   "file_extension": ".py",
   "mimetype": "text/x-python",
   "name": "python",
   "nbconvert_exporter": "python",
   "pygments_lexer": "ipython3",
   "version": "3.11.5"
  },
  "orig_nbformat": 4
 },
 "nbformat": 4,
 "nbformat_minor": 2
}
