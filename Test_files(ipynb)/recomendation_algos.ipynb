{
 "cells": [
  {
   "cell_type": "code",
   "execution_count": null,
   "metadata": {},
   "outputs": [],
   "source": [
    "# Recommendation Algo"
   ]
  },
  {
   "cell_type": "code",
   "execution_count": 1,
   "metadata": {},
   "outputs": [],
   "source": [
    "import spacy\n",
    "import numpy as np\n",
    "from sklearn.metrics.pairwise import cosine_similarity\n",
    "from gensim.models import KeyedVectors\n",
    "nlp = spacy.load(\"en_core_web_sm\")\n",
    "#only run on first time to download the pretrained model and then extract it.\n",
    "\n",
    "# import gensim.downloader as api\n",
    "# import gzip\n",
    "# path = api.load(\"word2vec-google-news-300\", return_path=True)\n",
    "# print(path)\n",
    "# def decompress_gz(input_path, output_path):\n",
    "#     with gzip.open(input_path, 'rb') as f_in:\n",
    "#         file_content = f_in.read()\n",
    "#         with open(output_path, 'wb') as f_out:\n",
    "#             f_out.write(file_content)\n",
    "\n",
    "# decompress_gz(path, path[:-2]+\"bin\")\n",
    "\n",
    "path = r'llama\\word2vec-google-news-300.bin'\n",
    "model = KeyedVectors.load_word2vec_format(path, binary=True)\n",
    "def sentanceSimplifier(txt): \n",
    "    doc = nlp(txt)\n",
    "    out = \"\"\n",
    "    for token in doc:\n",
    "        if token.pos_ in ['PROPN', 'VERB','NUM', 'NOUN']:\n",
    "            out+=token.lemma_+\" \"\n",
    "    return out[:-1]\n",
    "\n"
   ]
  },
  {
   "cell_type": "code",
   "execution_count": 2,
   "metadata": {},
   "outputs": [],
   "source": [
    "abstract = 'From scary stories to horror films and haunted houses, the horror genre is wildly popular. Although horror aims to elicit fear and anxiety, many people with anxiety are horror fans and some report using horror to cope with anxiety. In this article, we provide a theoretical rationale for why people with anxiety might choose to access and find relief in horror films. First, we discuss aspects of horror that could make it alluring to people with anxiety and how the use of horror may be negatively reinforcing. Next, we examine how engagement with horror could be used to build skills for resilience in generalized situations. We build on processes from evidence-based therapies (i.e., cognitive behavioral therapy and exposure therapy) to explain how horror media has the potential to be used as a therapeutic tool. Finally, we discuss steps for future research on horror as a therapeutic tool for anxiety-related disorders.'\n",
    "abstract2 = 'Intriguingly, the horror genre, renowned for evoking fear and trepidation, has garnered immense popularity across various media forms, from spine-chilling tales to unsettling cinematic experiences and spine-tingling haunted attractions. Paradoxically, amidst its spine-tingling narratives and heart-pounding scares, a noteworthy phenomenon emerges: individuals grappling with anxiety often find solace and intrigue within the realm of horror. This article endeavors to elucidate the theoretical underpinnings that underlie the inclination of individuals with anxiety towards engaging with horror content, delving into the potential reasons behind this intriguing connection.'\n",
    "#first 2 are similar 3 is different\n",
    "abstract3 = 'That there was variation in the theories expounded by the major early thinkers on evolution is well established. What is less effectively articulated is how their intellectual ambitions and approaches to interpreting evidence reflect a deep-rooted difference in their views on what sort of systems, and problems evolution deals with; insights which speak directly to contemporary debates about how we communicate the nature of science with consequences for learning practice. We provide a re-reading of the perspectives adopted by those who formulated the central concepts of evolutionary theory to expose slender but persistent differences of emphasis. Our analysis contrasts the approaches to enquiry of three voyaging naturalists; Charles Darwin, Thomas Henry Huxley, and Alfred Russel Wallace. This potted history is used to illustrate the relationship between different traditions of scientific enquiry, specifically the natural philosophy approach characteristic of Wallace’s work and the later Neo-Darwinists; Huxley’s more empirical, natural history approach that anticipated punctuated equilibria, and Darwin’s emphasis on agency and choice, which suggests a more humanistic mind-set. These understandings are used to propose a model of the structure of evolutionary science which has broader value as a motif for exploring and communicating the transitions between different modes of enquiry.'\n",
    "test = sentanceSimplifier(abstract).split(\" \")\n",
    "test"
   ]
  },
  {
   "cell_type": "code",
   "execution_count": 3,
   "metadata": {},
   "outputs": [
    {
     "name": "stdout",
     "output_type": "stream",
     "text": [
      "926\n"
     ]
    }
   ],
   "source": [
    "print(len(abstract))"
   ]
  },
  {
   "cell_type": "code",
   "execution_count": null,
   "metadata": {},
   "outputs": [],
   "source": [
    "def sentace2vec(txt):\n",
    "    simplified_txt = sentanceSimplifier(txt)\n",
    "    vecs = []\n",
    "    for word in simplified_txt.split(\" \"):\n",
    "        vecs.append(model[word])\n",
    "    vecs_arr = np.array(vecs)\n",
    "    return  vecs_arr.sum(axis=0)\n",
    "%timeit sentace2vec(abstract)\n"
   ]
  },
  {
   "cell_type": "code",
   "execution_count": null,
   "metadata": {},
   "outputs": [],
   "source": [
    "#can look to see if there is a faster way to implement this or if this is good enough\n",
    "def sentace2vec(txt):\n",
    "    simplified_txt = sentanceSimplifier(txt)\n",
    "    words = simplified_txt.split(\" \")\n",
    "    return np.array([model[word] for word in words if word in model]).sum(axis=0)/len(words)\n",
    "#%timeit sentace2vec(abstract) #30.8 ms ± 4.47 ms per loop (mean ± std. dev. of 7 runs, 10 loops each)\n",
    "sentace2vec(abstract)\n",
    "\n",
    "# this looks pretty good IMO mostly diff of < 3% so should be good to go\n",
    "\n"
   ]
  },
  {
   "cell_type": "code",
   "execution_count": null,
   "metadata": {},
   "outputs": [],
   "source": [
    "sentace2vec(abstract) - sentace2vec(abstract2)\n",
    "similarity = cosine_similarity([sentace2vec(abstract)], [sentace2vec(abstract2)])[0][0]\n",
    "#another way to compare the 2 sentances\n",
    "similarity\n"
   ]
  },
  {
   "cell_type": "code",
   "execution_count": null,
   "metadata": {},
   "outputs": [],
   "source": [
    "similarity = cosine_similarity([sentace2vec(abstract)], [sentace2vec(abstract3)])[0][0]\n",
    "# downside is that they might have a small range but I think that is fine, since the training set is all words \n",
    "# and we are only using scientific words there is higher similarity even if they are different I think \n",
    "similarity"
   ]
  },
  {
   "cell_type": "code",
   "execution_count": null,
   "metadata": {},
   "outputs": [],
   "source": [
    "# so I think at this point we hold a vector and a weight for each and then we find similarity,\n",
    "# see the similarity weighted value and then order by that"
   ]
  }
 ],
 "metadata": {
  "kernelspec": {
   "display_name": "Python 3",
   "language": "python",
   "name": "python3"
  },
  "language_info": {
   "codemirror_mode": {
    "name": "ipython",
    "version": 3
   },
   "file_extension": ".py",
   "mimetype": "text/x-python",
   "name": "python",
   "nbconvert_exporter": "python",
   "pygments_lexer": "ipython3",
   "version": "3.11.5"
  },
  "orig_nbformat": 4
 },
 "nbformat": 4,
 "nbformat_minor": 2
}
